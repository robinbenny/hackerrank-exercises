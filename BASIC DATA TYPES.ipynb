{
 "cells": [
  {
   "cell_type": "code",
   "execution_count": null,
   "metadata": {},
   "outputs": [],
   "source": [
    "#list comprehensions\n",
    "if __name__ == '__main__':\n",
    "    x = int(input())\n",
    "    y = int(input())\n",
    "    z = int(input())\n",
    "    n = int(input())\n",
    "    print([[i,j,k] for i in range(0,x+1) for j in range(0,y+1) for k in range(0,z+1) if((i+j+k)!=n)])\n"
   ]
  },
  {
   "cell_type": "code",
   "execution_count": null,
   "metadata": {},
   "outputs": [],
   "source": [
    "#find the runner up score\n",
    "if __name__ == '__main__':\n",
    "    n = int(input())\n",
    "    arr = map(int, input().split())\n",
    "arr1 = list(arr)\n",
    "m = max(arr1)\n",
    "arr1 = [i for i in arr1 if i!=m]\n",
    "n = max(arr1)\n",
    "print(n)"
   ]
  },
  {
   "cell_type": "code",
   "execution_count": null,
   "metadata": {},
   "outputs": [],
   "source": [
    "#nested lists\n",
    "student_marksheet=[]\n",
    "if __name__ == '__main__':\n",
    "    n=int(input())\n",
    "    for i in range(0,n):\n",
    "        name = input()\n",
    "        score = float(input())\n",
    "        student_marksheet.append([name,score])\n",
    "\n",
    "sorted_marksheet = sorted(student_marksheet,key = lambda x : x[1])\n",
    "lowest = min(sorted_marksheet,key = lambda x :x[1])[1]\n",
    "sorted_marksheet = [i for i in sorted_marksheet if i[1]!=lowest]\n",
    "if len(sorted_marksheet) >0 :\n",
    "    second_lowest_mark = min(sorted_marksheet,key = lambda x :x[1])[1]\n",
    "else:\n",
    "    second_lowest_mark = -1\n",
    "result=[]\n",
    "for i in range (0,n):\n",
    "    if student_marksheet[i][1]==second_lowest_mark :\n",
    "        result.append(student_marksheet[i][0])\n",
    "result = sorted(result)\n",
    "for name in result:\n",
    "    print(name)\n"
   ]
  },
  {
   "cell_type": "code",
   "execution_count": null,
   "metadata": {},
   "outputs": [],
   "source": [
    "#list\n",
    "if __name__ == '__main__':\n",
    "    N = int(input())\n",
    "    user_input = []\n",
    "l = []\n",
    "for i in range(N):\n",
    "    read = input().split(\" \")\n",
    "    user_input.append(read)\n",
    "for i in range(0,N):\n",
    "    if((user_input[i][0]).casefold()==\"insert\"):\n",
    "        l.insert(int(user_input[i][1]),int(user_input[i][2]))\n",
    "    elif((user_input[i][0]).casefold()==\"print\"):\n",
    "        print(l)\n",
    "    elif((user_input[i][0]).casefold()==\"remove\"):\n",
    "        l.remove(int(user_input[i][1]))\n",
    "    elif((user_input[i][0]).casefold()==\"append\"):\n",
    "        l.append(int(user_input[i][1]))\n",
    "    elif((user_input[i][0]).casefold()==\"sort\"):\n",
    "        l.sort()\n",
    "    elif((user_input[i][0]).casefold()==\"pop\"):\n",
    "        l.pop()\n",
    "    elif((user_input[i][0]).casefold()==\"reverse\"):\n",
    "        l.reverse()\n"
   ]
  },
  {
   "cell_type": "code",
   "execution_count": null,
   "metadata": {},
   "outputs": [],
   "source": [
    "#tuples\n",
    "if __name__ == '__main__':\n",
    "    n = int(input())\n",
    "    integer_list = map(int, input().split())\n",
    "t = tuple(integer_list)\n",
    "\n",
    "print(hash(t))\n"
   ]
  }
 ],
 "metadata": {
  "language_info": {
   "name": "python"
  },
  "orig_nbformat": 4
 },
 "nbformat": 4,
 "nbformat_minor": 2
}
