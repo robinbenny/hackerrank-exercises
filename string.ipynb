{
 "cells": [
  {
   "cell_type": "code",
   "execution_count": null,
   "metadata": {},
   "outputs": [],
   "source": [
    "#sWAP cASE\n",
    "def swap_case(s):\n",
    "    string = list(s)\n",
    "    for i in range(0,len(string)):\n",
    "        if string[i].islower():\n",
    "            string[i]=s[i].upper()\n",
    "        elif string[i].isupper():\n",
    "            string[i]=s[i].lower()   \n",
    "        else:\n",
    "            pass\n",
    "    s = \"\".join(string)     \n",
    "    return s\n"
   ]
  },
  {
   "cell_type": "code",
   "execution_count": null,
   "metadata": {},
   "outputs": [],
   "source": [
    "#Whats your Name?\n",
    "def print_full_name(robin, benny):\n",
    "    print(\"Hello \"+robin+\" \"+benny+\"! You just delved into python.\")"
   ]
  },
  {
   "cell_type": "code",
   "execution_count": null,
   "metadata": {},
   "outputs": [],
   "source": [
    "#mutation\n",
    "def mutate_string(string, position, character):\n",
    "    string = list(string)\n",
    "    string[position]=character\n",
    "    string = \"\".join(string)\n",
    "    return string"
   ]
  },
  {
   "cell_type": "code",
   "execution_count": null,
   "metadata": {},
   "outputs": [],
   "source": [
    "#find a string\n",
    "def count_substring(string, sub_string):\n",
    "    ro = len(string)\n",
    "    rob = len(sub_string)\n",
    "    count=0\n",
    "    for i in range(0,ro):\n",
    "        if(i+rob <= ro):\n",
    "            if(string[i:i+rob]==sub_string):\n",
    "                count+=1\n",
    "        else:\n",
    "            break\n",
    "    return count\n",
    "\n"
   ]
  }
 ],
 "metadata": {
  "language_info": {
   "name": "python"
  },
  "orig_nbformat": 4
 },
 "nbformat": 4,
 "nbformat_minor": 2
}
