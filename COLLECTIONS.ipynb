{
 "cells": [
  {
   "cell_type": "code",
   "execution_count": null,
   "metadata": {},
   "outputs": [],
   "source": [
    "#collections.counter()\n",
    "from collections import Counter\n",
    "\n",
    "X = int(input())\n",
    "shoes = Counter(list(map(int,input().split())))\n",
    "earnings = 0\n",
    "n = int(input())\n",
    "\n",
    "for i in range(n):\n",
    "    shoe,price = map(int,input().split())\n",
    "    if (shoe in shoes.keys()):\n",
    "        if(shoes[shoe]>0):\n",
    "            shoes[shoe]-=1\n",
    "            earnings+=price\n",
    "    else:\n",
    "        pass\n",
    "print(earnings)"
   ]
  },
  {
   "cell_type": "code",
   "execution_count": null,
   "metadata": {},
   "outputs": [],
   "source": [
    "#collection.namedtuples()\n",
    "from collections import namedtuple\n",
    "\n",
    "n=int(input())\n",
    "x=namedtuple('x',input().split())\n",
    "marks=[int(x(*input().split()).MARKS) \n",
    "\n",
    "for _ in range(n)]\n",
    "\n",
    "print(sum(marks)/n)"
   ]
  },
  {
   "cell_type": "code",
   "execution_count": null,
   "metadata": {},
   "outputs": [],
   "source": [
    "#collection.orderedDict()\n",
    "from collections import OrderedDict\n",
    "\n",
    "product = OrderedDict()\n",
    "n = int(input())\n",
    "\n",
    "for i in range(n):\n",
    "    l = input().split()\n",
    "    item = \" \".join(l[:len(l)-1])\n",
    "    price = int(l[-1])\n",
    "    if item in product.keys():\n",
    "        product[item]+=int(price)\n",
    "    else:\n",
    "        product[item]=int(price)\n",
    "\n",
    "for key,value in product.items():\n",
    "    print(key,value)"
   ]
  },
  {
   "cell_type": "code",
   "execution_count": null,
   "metadata": {},
   "outputs": [],
   "source": [
    "#collections.deque()\n",
    "from collections import deque\n",
    "\n",
    "x = int(input())\n",
    "y = deque()\n",
    "\n",
    "for i in range(x):\n",
    "    l = input().split()\n",
    "    if(l[0].casefold()=='append'):\n",
    "        y.append(l[1])\n",
    "    elif(l[0].casefold()=='pop'):\n",
    "        y.pop()\n",
    "    elif(l[0].casefold()=='appendleft'):\n",
    "        y.appendleft(l[1])\n",
    "    elif(l[0].casefold()=='popleft'):\n",
    "        y.popleft()\n",
    "        \n",
    "for i in range(0,len(y)):\n",
    "    print(y[i],end = \" \")"
   ]
  }
 ],
 "metadata": {
  "kernelspec": {
   "display_name": "Python 3.10.0 64-bit",
   "language": "python",
   "name": "python3"
  },
  "language_info": {
   "name": "python",
   "version": "3.10.0"
  },
  "orig_nbformat": 4,
  "vscode": {
   "interpreter": {
    "hash": "26de051ba29f2982a8de78e945f0abaf191376122a1563185a90213a26c5da77"
   }
  }
 },
 "nbformat": 4,
 "nbformat_minor": 2
}
