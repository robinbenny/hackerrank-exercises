{
 "cells": [
  {
   "cell_type": "code",
   "execution_count": null,
   "metadata": {},
   "outputs": [],
   "source": [
    "#itertools.product()\n",
    "from itertools import product\n",
    "\n",
    "x=map(int,input().split())\n",
    "y=map(int,input().split())\n",
    "z=[str(a)for a in list(product(x,y))]\n",
    "\n",
    "print(' '.join(z))"
   ]
  },
  {
   "cell_type": "code",
   "execution_count": null,
   "metadata": {},
   "outputs": [],
   "source": [
    "#itertools.permutations()\n",
    "from itertools import permutations\n",
    "chief,digit=input().split(\" \")\n",
    "permutations=list(permutations(chief,int(digit)))\n",
    "permutations.sort()\n",
    "\n",
    "for i in permutations:\n",
    "    print(\"\".join(i))"
   ]
  },
  {
   "cell_type": "code",
   "execution_count": null,
   "metadata": {},
   "outputs": [],
   "source": [
    "#itertools.combinations()\n",
    "from itertools import combinations\n",
    "\n",
    "x,y=input().split()\n",
    "a=list(x)\n",
    "a.sort()\n",
    "t=0\n",
    "\n",
    "for i in range(int(y)):\n",
    "    A=list(combinations(a,i+1))\n",
    "    for j in A:\n",
    "        ans=''.join(j)\n",
    "        \n",
    "        print(ans)"
   ]
  },
  {
   "cell_type": "code",
   "execution_count": null,
   "metadata": {},
   "outputs": [],
   "source": [
    "#compress the string!\n",
    "from itertools import groupby\n",
    "moon=input()\n",
    "for i,j in groupby(moon):\n",
    "    \n",
    "    print(tuple([len(list(j)),int(i)]),end=' ')"
   ]
  }
 ],
 "metadata": {
  "language_info": {
   "name": "python"
  },
  "orig_nbformat": 4
 },
 "nbformat": 4,
 "nbformat_minor": 2
}
