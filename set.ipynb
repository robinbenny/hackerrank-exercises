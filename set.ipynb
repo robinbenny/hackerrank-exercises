{
 "cells": [
  {
   "cell_type": "code",
   "execution_count": null,
   "metadata": {},
   "outputs": [],
   "source": [
    "#intoduction to sets\n",
    "def average(array):\n",
    "    # your code goes here\n",
    "    array = set(array)\n",
    "    return (sum(array)/len(array))"
   ]
  },
  {
   "cell_type": "code",
   "execution_count": null,
   "metadata": {},
   "outputs": [],
   "source": [
    "#symmetric difference\n",
    "a = input()\n",
    "b = set(map(int,input().split()))\n",
    "c = input()\n",
    "e = set(map(int,input().split()))\n",
    "\n",
    "answer= list(b.difference(e).union(e.difference(b)))\n",
    "answer.sort()\n",
    "for i in answer:\n",
    "    print(i)\n"
   ]
  },
  {
   "cell_type": "code",
   "execution_count": null,
   "metadata": {},
   "outputs": [],
   "source": [
    "#set.add()\n",
    "first = int(input())\n",
    "Second = set([input() for i in range(first)])\n",
    "\n",
    "print(len(Second))"
   ]
  },
  {
   "cell_type": "code",
   "execution_count": null,
   "metadata": {},
   "outputs": [],
   "source": [
    "#set.discard(),.remove() & .pop()\n",
    "n = int(input())\n",
    "s = set(map(int, input().split()))\n",
    "N = int(input())\n",
    "for i in range(N):\n",
    "    line = input().split()\n",
    "    if(line[0].casefold()=='remove'):\n",
    "        s.remove(int(line[1]))\n",
    "    elif(line[0].casefold()=='pop'):\n",
    "        s.pop()\n",
    "    elif(line[0].casefold()=='discard'):\n",
    "        s.discard(int(line[1]))\n",
    "print(sum(s))"
   ]
  }
 ],
 "metadata": {
  "language_info": {
   "name": "python"
  },
  "orig_nbformat": 4
 },
 "nbformat": 4,
 "nbformat_minor": 2
}
